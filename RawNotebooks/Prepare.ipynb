{
 "cells": [
  {
   "cell_type": "code",
   "execution_count": 1,
   "id": "4e4e3e85-a2f4-4410-bab1-0e841efc22f2",
   "metadata": {},
   "outputs": [],
   "source": [
    "from PIL import Image\n",
    "img = Image.open('crops/train/corn/28.jpg').convert('L')\n",
    "img.save('greyscale.png')"
   ]
  },
  {
   "cell_type": "code",
   "execution_count": 9,
   "id": "1a0eb59a-9f7e-4540-86c7-430925ae34e3",
   "metadata": {},
   "outputs": [],
   "source": [
    "import os\n",
    "folder = 'crops/test/cabbage/'\n",
    "folder_save = 'crops_greyscale/test/cabbage/'\n",
    "for jpg in os.listdir(folder):\n",
    "    img = Image.open(folder + jpg).convert('L')\n",
    "    img.save(folder_save + jpg)"
   ]
  },
  {
   "cell_type": "code",
   "execution_count": 4,
   "id": "bc77c259-1428-4c71-8198-ef66d51476a3",
   "metadata": {},
   "outputs": [],
   "source": [
    "import os\n",
    "import cv2\n",
    "import numpy as np\n",
    "folder = 'crops_greyscale/new/'\n",
    "folder_save = 'crops_greyscale/test/beet/'\n",
    "for jpg in os.listdir(folder):\n",
    "    img = cv2.imread(folder + jpg)\n",
    "    gray = cv2.cvtColor(img, cv2.COLOR_BGR2GRAY)\n",
    "    img2 = np.zeros_like(img)\n",
    "    img2[:,:,0] = gray\n",
    "    img2[:,:,1] = gray\n",
    "    img2[:,:,2] = gray\n",
    "    cv2.imwrite(folder_save + jpg, img2)"
   ]
  },
  {
   "cell_type": "code",
   "execution_count": 13,
   "id": "f5223638-e94f-4683-9e2c-360db0f43b6e",
   "metadata": {},
   "outputs": [
    {
     "data": {
      "text/plain": [
       "'crops_greyscale/test/cabbage/1.jpg'"
      ]
     },
     "execution_count": 13,
     "metadata": {},
     "output_type": "execute_result"
    }
   ],
   "source": [
    "folder_save + os.listdir(folder)[0]"
   ]
  },
  {
   "cell_type": "code",
   "execution_count": null,
   "id": "cae08ef6-7e91-47a8-aefa-05833ada23d3",
   "metadata": {},
   "outputs": [],
   "source": []
  }
 ],
 "metadata": {
  "kernelspec": {
   "display_name": "Python 3 (ipykernel)",
   "language": "python",
   "name": "python3"
  },
  "language_info": {
   "codemirror_mode": {
    "name": "ipython",
    "version": 3
   },
   "file_extension": ".py",
   "mimetype": "text/x-python",
   "name": "python",
   "nbconvert_exporter": "python",
   "pygments_lexer": "ipython3",
   "version": "3.9.18"
  }
 },
 "nbformat": 4,
 "nbformat_minor": 5
}
